{
 "cells": [
  {
   "cell_type": "markdown",
   "id": "b52217ea",
   "metadata": {},
   "source": [
    "# Train T5 for English → German or English → Romanian Translation\n",
    "# This notebook fine-tunes Google's T5 (t5-base) model using the WMT datasets.\n",
    "\n"
   ]
  },
  {
   "cell_type": "code",
   "execution_count": 7,
   "id": "ada4fd1c",
   "metadata": {},
   "outputs": [],
   "source": [
    "from datasets import load_dataset\n",
    "from transformers import T5Tokenizer, T5ForConditionalGeneration\n",
    "from transformers import Trainer, TrainingArguments, DataCollatorForSeq2Seq\n",
    "import evaluate\n",
    "import torch\n"
   ]
  },
  {
   "cell_type": "code",
   "execution_count": 8,
   "id": "0ac47a1c",
   "metadata": {},
   "outputs": [],
   "source": [
    "\n",
    "# Load and Preprocess Dataset\n",
    "# Choose dataset: use 'wmt14', 'de-en' for English-German or 'wmt16', 'ro-en' for English-Romanian\n",
    "# Also change the PREFIX and output paths accordingly\n",
    "DATASET_NAME = \"wmt14\"\n",
    "LANG_PAIR = \"de-en\"\n",
    "PREFIX = \"translate English to German: \"  # Use \"translate English to Romanian: \" for RO\n",
    "\n",
    "# Load a small subset for training\n",
    "raw_dataset = load_dataset(DATASET_NAME, LANG_PAIR, split=\"train[:200]\")\n",
    "\n"
   ]
  },
  {
   "cell_type": "code",
   "execution_count": 9,
   "id": "18488620",
   "metadata": {},
   "outputs": [
    {
     "data": {
      "application/vnd.jupyter.widget-view+json": {
       "model_id": "b39dce13d1894629902bed4ddeecaa81",
       "version_major": 2,
       "version_minor": 0
      },
      "text/plain": [
       "spiece.model:   0%|          | 0.00/792k [00:00<?, ?B/s]"
      ]
     },
     "metadata": {},
     "output_type": "display_data"
    },
    {
     "data": {
      "application/vnd.jupyter.widget-view+json": {
       "model_id": "eab886cda2c64ca7bd85e8003c2d8e5e",
       "version_major": 2,
       "version_minor": 0
      },
      "text/plain": [
       "tokenizer.json:   0%|          | 0.00/1.39M [00:00<?, ?B/s]"
      ]
     },
     "metadata": {},
     "output_type": "display_data"
    },
    {
     "data": {
      "application/vnd.jupyter.widget-view+json": {
       "model_id": "0f76422a509f4e82bb9a947e33223ad8",
       "version_major": 2,
       "version_minor": 0
      },
      "text/plain": [
       "config.json:   0%|          | 0.00/1.21k [00:00<?, ?B/s]"
      ]
     },
     "metadata": {},
     "output_type": "display_data"
    },
    {
     "data": {
      "application/vnd.jupyter.widget-view+json": {
       "model_id": "0d652e0c251b42069b7cbe70a022597c",
       "version_major": 2,
       "version_minor": 0
      },
      "text/plain": [
       "model.safetensors:   0%|          | 0.00/892M [00:00<?, ?B/s]"
      ]
     },
     "metadata": {},
     "output_type": "display_data"
    },
    {
     "data": {
      "application/vnd.jupyter.widget-view+json": {
       "model_id": "c590923cbd0b4504af35434c4ac2825a",
       "version_major": 2,
       "version_minor": 0
      },
      "text/plain": [
       "generation_config.json:   0%|          | 0.00/147 [00:00<?, ?B/s]"
      ]
     },
     "metadata": {},
     "output_type": "display_data"
    },
    {
     "data": {
      "application/vnd.jupyter.widget-view+json": {
       "model_id": "20bd9969cd9745fdacb29e96d1dcf0cc",
       "version_major": 2,
       "version_minor": 0
      },
      "text/plain": [
       "Map:   0%|          | 0/200 [00:00<?, ? examples/s]"
      ]
     },
     "metadata": {},
     "output_type": "display_data"
    }
   ],
   "source": [
    "\n",
    "# Load Tokenizer and Model\n",
    "\n",
    "tokenizer = T5Tokenizer.from_pretrained(\"t5-base\")\n",
    "model = T5ForConditionalGeneration.from_pretrained(\"t5-base\")\n",
    "\n",
    "# Tokenize Dataset\n",
    "\n",
    "def preprocess(example):\n",
    "    input_text = PREFIX + example[\"translation\"][\"en\"]\n",
    "    target_text = example[\"translation\"][\"de\"]  # Change to [\"ro\"] if using RO\n",
    "    model_inputs = tokenizer(input_text, max_length=128, truncation=True, padding=\"max_length\")\n",
    "    labels = tokenizer(target_text, max_length=128, truncation=True, padding=\"max_length\")\n",
    "    model_inputs[\"labels\"] = labels[\"input_ids\"]\n",
    "    return model_inputs\n",
    "\n",
    "# Apply preprocessing\n",
    "tokenized_dataset = raw_dataset.map(preprocess, remove_columns=raw_dataset.column_names)\n"
   ]
  },
  {
   "cell_type": "code",
   "execution_count": 10,
   "id": "27b8411c",
   "metadata": {},
   "outputs": [
    {
     "name": "stderr",
     "output_type": "stream",
     "text": [
      "/opt/anaconda3/lib/python3.12/site-packages/transformers/training_args.py:1611: FutureWarning: `evaluation_strategy` is deprecated and will be removed in version 4.46 of 🤗 Transformers. Use `eval_strategy` instead\n",
      "  warnings.warn(\n",
      "/var/folders/qx/kwt2yzc57djflb63h7j_sxg40000gn/T/ipykernel_15833/2442992501.py:14: FutureWarning: `tokenizer` is deprecated and will be removed in version 5.0.0 for `Trainer.__init__`. Use `processing_class` instead.\n",
      "  trainer = Trainer(\n"
     ]
    }
   ],
   "source": [
    "\n",
    "# Set Up Training\n",
    "\n",
    "data_collator = DataCollatorForSeq2Seq(tokenizer=tokenizer, model=model)\n",
    "training_args = TrainingArguments(\n",
    "    output_dir=\"./t5-finetuned-en-de\",  # Change to ./t5-finetuned-en-ro if using RO\n",
    "    per_device_train_batch_size=4,\n",
    "    num_train_epochs=1,\n",
    "    logging_dir=\"./logs\",\n",
    "    save_strategy=\"epoch\",\n",
    "    evaluation_strategy=\"no\",\n",
    "    report_to=\"none\"\n",
    ")\n",
    "\n",
    "trainer = Trainer(\n",
    "    model=model,\n",
    "    args=training_args,\n",
    "    train_dataset=tokenized_dataset,\n",
    "    tokenizer=tokenizer,\n",
    "    data_collator=data_collator\n",
    ")\n"
   ]
  },
  {
   "cell_type": "code",
   "execution_count": 11,
   "id": "a2b4d729",
   "metadata": {},
   "outputs": [
    {
     "data": {
      "text/html": [
       "\n",
       "    <div>\n",
       "      \n",
       "      <progress value='50' max='50' style='width:300px; height:20px; vertical-align: middle;'></progress>\n",
       "      [50/50 00:23, Epoch 1/1]\n",
       "    </div>\n",
       "    <table border=\"1\" class=\"dataframe\">\n",
       "  <thead>\n",
       " <tr style=\"text-align: left;\">\n",
       "      <th>Step</th>\n",
       "      <th>Training Loss</th>\n",
       "    </tr>\n",
       "  </thead>\n",
       "  <tbody>\n",
       "  </tbody>\n",
       "</table><p>"
      ],
      "text/plain": [
       "<IPython.core.display.HTML object>"
      ]
     },
     "metadata": {},
     "output_type": "display_data"
    },
    {
     "name": "stdout",
     "output_type": "stream",
     "text": [
      " T5 model trained and saved.\n"
     ]
    }
   ],
   "source": [
    "\n",
    "# Train the Model\n",
    "\n",
    "trainer.train()\n",
    "\n",
    "# Save Model and Tokenizer\n",
    "\n",
    "model.save_pretrained(\"./t5-finetuned-en-de\")\n",
    "tokenizer.save_pretrained(\"./t5-finetuned-en-de\")\n",
    "print(\" T5 model trained and saved.\")\n"
   ]
  },
  {
   "cell_type": "code",
   "execution_count": 12,
   "id": "b54b5474",
   "metadata": {},
   "outputs": [
    {
     "name": "stderr",
     "output_type": "stream",
     "text": [
      "Asking to truncate to max_length but no maximum length is provided and the model has no predefined maximum length. Default to no truncation.\n"
     ]
    },
    {
     "name": "stdout",
     "output_type": "stream",
     "text": [
      "BLEU score on 50 samples: 0.2653\n"
     ]
    }
   ],
   "source": [
    "\n",
    "# Evaluate BLEU Score\n",
    "\n",
    "bleu = evaluate.load(\"bleu\")\n",
    "model.eval()\n",
    "\n",
    "predictions, references = [], []\n",
    "sample_dataset = raw_dataset.select(range(50))\n",
    "\n",
    "for example in sample_dataset:\n",
    "    input_text = PREFIX + example[\"translation\"][\"en\"]\n",
    "    target_text = example[\"translation\"][\"de\"]  # Change to [\"ro\"] for RO\n",
    "\n",
    "    inputs = tokenizer(input_text, return_tensors=\"pt\", padding=True, truncation=True).to(model.device)\n",
    "    with torch.no_grad():\n",
    "        output_tokens = model.generate(**inputs, max_length=128)\n",
    "    prediction = tokenizer.decode(output_tokens[0], skip_special_tokens=True)\n",
    "\n",
    "    predictions.append(prediction.strip())\n",
    "    references.append([target_text.strip()])\n",
    "\n",
    "bleu_result = bleu.compute(predictions=predictions, references=references)\n",
    "print(f\"BLEU score on 50 samples: {bleu_result['bleu']:.4f}\")"
   ]
  }
 ],
 "metadata": {
  "kernelspec": {
   "display_name": "base",
   "language": "python",
   "name": "python3"
  },
  "language_info": {
   "codemirror_mode": {
    "name": "ipython",
    "version": 3
   },
   "file_extension": ".py",
   "mimetype": "text/x-python",
   "name": "python",
   "nbconvert_exporter": "python",
   "pygments_lexer": "ipython3",
   "version": "3.12.2"
  }
 },
 "nbformat": 4,
 "nbformat_minor": 5
}
