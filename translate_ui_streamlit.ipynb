{
 "cells": [
  {
   "cell_type": "code",
   "execution_count": 1,
   "id": "ca910d44",
   "metadata": {},
   "outputs": [],
   "source": [
    "import streamlit as st\n",
    "from transformers import MarianTokenizer, MarianMTModel\n",
    "import torch\n",
    "\n",
    "# Model paths\n",
    "MODEL_OPTIONS = {\n",
    "    \"English → German\": \"./marian-finetuned-en-de\",\n",
    "    \"English → Romanian\": \"./finetuned-en-ro\"\n",
    "}\n",
    "\n",
    "@st.cache_resource\n",
    "def load_model_and_tokenizer(model_path):\n",
    "    tokenizer = MarianTokenizer.from_pretrained(model_path)\n",
    "    model = MarianMTModel.from_pretrained(model_path)\n",
    "    device = torch.device(\"cuda\" if torch.cuda.is_available() else \"cpu\")\n",
    "    model.to(device)\n",
    "    return model, tokenizer, device\n"
   ]
  },
  {
   "cell_type": "code",
   "execution_count": 2,
   "id": "f00f3bf0",
   "metadata": {},
   "outputs": [
    {
     "name": "stderr",
     "output_type": "stream",
     "text": [
      "2025-04-06 15:54:11.462 \n",
      "  \u001b[33m\u001b[1mWarning:\u001b[0m to view this Streamlit app on a browser, run it with the following\n",
      "  command:\n",
      "\n",
      "    streamlit run /opt/anaconda3/lib/python3.12/site-packages/ipykernel_launcher.py [ARGUMENTS]\n",
      "/opt/anaconda3/lib/python3.12/site-packages/transformers/models/marian/tokenization_marian.py:175: UserWarning: Recommended: pip install sacremoses.\n",
      "  warnings.warn(\"Recommended: pip install sacremoses.\")\n"
     ]
    }
   ],
   "source": [
    "\n",
    "# Streamlit UI setup\n",
    "st.set_page_config(page_title=\"English Translator\", layout=\"centered\")\n",
    "st.title(\"🌍 English Translator\")\n",
    "st.markdown(\"Select a model below, enter English text, and get your translation in German or Romanian.\")\n",
    "\n",
    "# Dropdown selector\n",
    "model_choice = st.selectbox(\"Choose Translation Model\", list(MODEL_OPTIONS.keys()))\n",
    "model_path = MODEL_OPTIONS[model_choice]\n",
    "model, tokenizer, device = load_model_and_tokenizer(model_path)\n",
    "\n",
    "# Text input\n",
    "text_input = st.text_area(\"Enter English Text\", height=150)\n",
    "\n",
    "# Translate button\n",
    "if st.button(\"Translate\"):\n",
    "    if not text_input.strip():\n",
    "        st.warning(\"Please enter some English text.\")\n",
    "    else:\n",
    "        inputs = tokenizer(text_input, return_tensors=\"pt\", padding=True, truncation=True).to(device)\n",
    "        with torch.no_grad():\n",
    "            translated = model.generate(**inputs, max_length=128)\n",
    "        output = tokenizer.decode(translated[0], skip_special_tokens=True)\n",
    "        st.success(\"**Translated Text:**\")\n",
    "        st.text_area(\"Output\", value=output, height=150)\n"
   ]
  }
 ],
 "metadata": {
  "kernelspec": {
   "display_name": "Python 3 (ipykernel)",
   "language": "python",
   "name": "python3"
  },
  "language_info": {
   "codemirror_mode": {
    "name": "ipython",
    "version": 3
   },
   "file_extension": ".py",
   "mimetype": "text/x-python",
   "name": "python",
   "nbconvert_exporter": "python",
   "pygments_lexer": "ipython3",
   "version": "3.12.4"
  }
 },
 "nbformat": 4,
 "nbformat_minor": 5
}
