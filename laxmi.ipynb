{
 "cells": [
  {
   "cell_type": "code",
   "execution_count": 1,
   "metadata": {},
   "outputs": [],
   "source": [
    "import gradio as gr\n",
    "from transformers import MarianTokenizer, MarianMTModel\n",
    "import torch\n"
   ]
  },
  {
   "cell_type": "code",
   "execution_count": 2,
   "metadata": {},
   "outputs": [],
   "source": [
    "\n",
    "# Available translation models\n",
    "MODEL_OPTIONS = {\n",
    "    \"English → German\": \"./marian-finetuned-en-de\",\n",
    "    \"English → Romanian\": \"./finetuned-en-ro\"\n",
    "}\n"
   ]
  },
  {
   "cell_type": "code",
   "execution_count": 3,
   "metadata": {},
   "outputs": [],
   "source": [
    "\n",
    "def load_model_and_tokenizer(model_path):\n",
    "    tokenizer = MarianTokenizer.from_pretrained(model_path)\n",
    "    model = MarianMTModel.from_pretrained(model_path)\n",
    "    device = torch.device(\"cuda\" if torch.cuda.is_available() else \"cpu\")\n",
    "    model.to(device)\n",
    "    return model, tokenizer, device\n"
   ]
  },
  {
   "cell_type": "code",
   "execution_count": 4,
   "metadata": {},
   "outputs": [
    {
     "name": "stderr",
     "output_type": "stream",
     "text": [
      "/opt/anaconda3/lib/python3.12/site-packages/transformers/models/marian/tokenization_marian.py:175: UserWarning: Recommended: pip install sacremoses.\n",
      "  warnings.warn(\"Recommended: pip install sacremoses.\")\n"
     ]
    }
   ],
   "source": [
    "\n",
    "# Load default model at startup\n",
    "active_model, active_tokenizer, active_device = load_model_and_tokenizer(MODEL_OPTIONS[\"English → German\"])\n"
   ]
  },
  {
   "cell_type": "code",
   "execution_count": 5,
   "metadata": {},
   "outputs": [],
   "source": [
    "\n",
    "# Translation function with dynamic model switching\n",
    "def translate_text(text, model_choice):\n",
    "    global active_model, active_tokenizer, active_device\n",
    "\n",
    "    model_path = MODEL_OPTIONS[model_choice]\n",
    "    active_model, active_tokenizer, active_device = load_model_and_tokenizer(model_path)\n",
    "\n",
    "    if not text.strip():\n",
    "        return \"Please enter some English text.\"\n",
    "\n",
    "    inputs = active_tokenizer(text, return_tensors=\"pt\", padding=True, truncation=True).to(active_device)\n",
    "    translated_tokens = active_model.generate(**inputs, max_length=128)\n",
    "    translated_text = active_tokenizer.decode(translated_tokens[0], skip_special_tokens=True)\n",
    "    return translated_text\n"
   ]
  },
  {
   "cell_type": "code",
   "execution_count": 6,
   "metadata": {},
   "outputs": [
    {
     "name": "stdout",
     "output_type": "stream",
     "text": [
      "* Running on local URL:  http://127.0.0.1:7860\n",
      "\n",
      "To create a public link, set `share=True` in `launch()`.\n"
     ]
    },
    {
     "data": {
      "text/html": [
       "<div><iframe src=\"http://127.0.0.1:7860/\" width=\"100%\" height=\"500\" allow=\"autoplay; camera; microphone; clipboard-read; clipboard-write;\" frameborder=\"0\" allowfullscreen></iframe></div>"
      ],
      "text/plain": [
       "<IPython.core.display.HTML object>"
      ]
     },
     "metadata": {},
     "output_type": "display_data"
    },
    {
     "data": {
      "text/plain": []
     },
     "execution_count": 6,
     "metadata": {},
     "output_type": "execute_result"
    },
    {
     "name": "stderr",
     "output_type": "stream",
     "text": [
      "/opt/anaconda3/lib/python3.12/site-packages/transformers/models/marian/tokenization_marian.py:175: UserWarning: Recommended: pip install sacremoses.\n",
      "  warnings.warn(\"Recommended: pip install sacremoses.\")\n"
     ]
    }
   ],
   "source": [
    "\n",
    "# Gradio Interface\n",
    "dropdown = gr.Dropdown(label=\"Choose Translation Model\", choices=list(MODEL_OPTIONS.keys()), value=\"English → German\")\n",
    "textbox = gr.Textbox(lines=3, label=\"Enter English Text\")\n",
    "outputbox = gr.Textbox(label=\"Translated Output\")\n",
    "\n",
    "iface = gr.Interface(\n",
    "    fn=translate_text,\n",
    "    inputs=[textbox, dropdown],\n",
    "    outputs=outputbox,\n",
    "    title=\"English Translator with Model Selector\",\n",
    "    description=\"Select a model (EN→DE or EN→RO), enter English text, and get your translation.\"\n",
    ")\n",
    "\n",
    "iface.launch()\n"
   ]
  }
 ],
 "metadata": {
  "kernelspec": {
   "display_name": "base",
   "language": "python",
   "name": "python3"
  },
  "language_info": {
   "codemirror_mode": {
    "name": "ipython",
    "version": 3
   },
   "file_extension": ".py",
   "mimetype": "text/x-python",
   "name": "python",
   "nbconvert_exporter": "python",
   "pygments_lexer": "ipython3",
   "version": "3.12.2"
  }
 },
 "nbformat": 4,
 "nbformat_minor": 2
}
